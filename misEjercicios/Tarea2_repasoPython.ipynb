{
 "cells": [
  {
   "cell_type": "markdown",
   "metadata": {},
   "source": [
    "# TAREA 2"
   ]
  },
  {
   "cell_type": "markdown",
   "metadata": {},
   "source": [
    "1.- Una secuencia de instrucciones que permita leer un numero real por pantalla y que muestre si el número es positivo o no:  "
   ]
  },
  {
   "cell_type": "code",
   "execution_count": 26,
   "metadata": {
    "collapsed": true
   },
   "outputs": [
    {
     "name": "stdout",
     "output_type": "stream",
     "text": [
      "Introduce un numero real: 31.006276680299816\n",
      "31.006276680299816\n",
      "31.006276680299816 es positivo\n"
     ]
    }
   ],
   "source": [
    "real=float(input(\"Introduce un numero real: \"))\n",
    "print(real)\n",
    "if real>0:\n",
    "    print(str(real)+\" es positivo\")\n",
    "else:\n",
    "    print(str(real)+\" no es positivo\")\n"
   ]
  },
  {
   "cell_type": "markdown",
   "metadata": {},
   "source": [
    "2.- secuencia que permita leer un número real por pantalla y que muestre si está en el rango entre -5 y 5"
   ]
  },
  {
   "cell_type": "code",
   "execution_count": 36,
   "metadata": {
    "collapsed": true
   },
   "outputs": [
    {
     "name": "stdout",
     "output_type": "stream",
     "text": [
      "Introduzca un número real, por favor: 0\n",
      "0.0\n",
      "0.0 está en el rango entre -5 y 5.\n"
     ]
    }
   ],
   "source": [
    "real2=float(input(\"Introduzca un número real, por favor: \"))\n",
    "print (real2)\n",
    "if real2 >-5 and real2<5:\n",
    "    print(str(real2)+\" está en el rango entre -5 y 5.\")"
   ]
  },
  {
   "cell_type": "markdown",
   "metadata": {},
   "source": [
    "3.- secuencia que permita leer las coordenadas de un punto (x,y) e indique en cual cuadrante se encuentra"
   ]
  },
  {
   "cell_type": "code",
   "execution_count": 42,
   "metadata": {},
   "outputs": [],
   "source": [
    "x = 5\n",
    "y = 3"
   ]
  },
  {
   "cell_type": "code",
   "execution_count": 57,
   "metadata": {},
   "outputs": [],
   "source": [
    "def cuadrante(x,y):\n",
    "\n",
    "#    x=float(input(\"Introduzca la coordenada x: \"))\n",
    "#    y=float(input(\"Introduzca la coordenada y: \"))\n",
    "\n",
    "    print(\"Las coordenadas del punto son: (\"+str(x)+\",\"+str(y)+\")\")\n",
    "    if x>0 and y>=0:\n",
    "        print(\"El punto se encuentra en el primer cuadrante.\")\n",
    "    elif x<=0 and y>0:\n",
    "        print(\"El punto se encuentra en el segundo cuadrante.\")\n",
    "    elif x<0 and y<=0:\n",
    "        print(\"El punto se encuentra en el tercer cuadrante.\")\n",
    "    else:\n",
    "        print(\"El punto se encuentra en el cuarto cuadrante.\")"
   ]
  },
  {
   "cell_type": "code",
   "execution_count": 58,
   "metadata": {
    "collapsed": true
   },
   "outputs": [
    {
     "name": "stdout",
     "output_type": "stream",
     "text": [
      "Las coordenadas del punto son: (5,-7)\n",
      "El punto se encuentra en el cuarto cuadrante.\n"
     ]
    }
   ],
   "source": [
    "cuadrante(5,-7)"
   ]
  },
  {
   "cell_type": "markdown",
   "metadata": {},
   "source": [
    "4.-secuencia de instrucciones que permitan leer dos números enteros y muestre el cociente de la división entera y el resto."
   ]
  },
  {
   "cell_type": "code",
   "execution_count": 59,
   "metadata": {},
   "outputs": [],
   "source": [
    "def divEnt (D,d):\n",
    "    c=D//d\n",
    "    r=D%d\n",
    "    print(\"El dividendo de la división entera es: \"+str(D))\n",
    "    print(\"El divisor de la división entera es: \"+str(d))\n",
    "    print(\"El cociente de la división entera es: \"+str(c))\n",
    "    print(\"El resto de la división entera es: \"+str(r))    "
   ]
  },
  {
   "cell_type": "code",
   "execution_count": 60,
   "metadata": {
    "collapsed": true
   },
   "outputs": [
    {
     "name": "stdout",
     "output_type": "stream",
     "text": [
      "El dividendo de la división entera es: 7\n",
      "El divisor de la división entera es: 3\n",
      "El cociente de la división entera es: 2\n",
      "El resto de la división entera es: 1\n"
     ]
    }
   ],
   "source": [
    "divEnt (7,3)"
   ]
  },
  {
   "cell_type": "markdown",
   "metadata": {},
   "source": [
    "5.- secuencia de instrucciones que permitan leer un número entero es cuadrado perfecto o no (piensa la mejor forma de hacerlo con lo que has aprendido hasta ahora)"
   ]
  },
  {
   "cell_type": "code",
   "execution_count": 112,
   "metadata": {},
   "outputs": [],
   "source": [
    "# definir clase y metodo\n",
    "class cuadrados(object):\n",
    "    \n",
    "    def cuaPer(self,x):\n",
    "        if math.sqrt(x)-math.trunc(math.sqrt(x))==0:\n",
    "            print(\"El número \"+str(x)+\" es un cuadrado perfecto.\")\n",
    "        else:\n",
    "            print(\"El número \"+str(x)+\" no es un cuadrado perfecto.\")"
   ]
  },
  {
   "cell_type": "code",
   "execution_count": 117,
   "metadata": {},
   "outputs": [
    {
     "name": "stdout",
     "output_type": "stream",
     "text": [
      "El número 9 es un cuadrado perfecto.\n"
     ]
    }
   ],
   "source": [
    "inst=cuadrados()\n",
    "inst.cuaPer(9)"
   ]
  },
  {
   "cell_type": "markdown",
   "metadata": {},
   "source": [
    "Correción del profesor"
   ]
  },
  {
   "cell_type": "code",
   "execution_count": null,
   "metadata": {},
   "outputs": [],
   "source": [
    "import numpy as np\n",
    "numero = float(input('Escribe un Numero: '))\n",
    "d1 = np.sqrt(numero)\n",
    "d2 = int(np.sqrt(numero))\n",
    "if d1 - d2 == 0:\n",
    "    print('El numero es un cuadrado perfecto')\n",
    "else:\n",
    "    print('El numero no es cuadrado perfecto')"
   ]
  },
  {
   "cell_type": "code",
   "execution_count": 67,
   "metadata": {
    "collapsed": true
   },
   "outputs": [
    {
     "name": "stdout",
     "output_type": "stream",
     "text": [
      "El número 64 es un cuadrado perfecto.\n"
     ]
    }
   ],
   "source": [
    "cuaPer(64)"
   ]
  },
  {
   "cell_type": "markdown",
   "metadata": {},
   "source": [
    "6.- una expresión que permita determinar si un número entero positivo puede corresponder a un año bisiesto o no. Se consideran años bisiestos aquellos cuyo número es divisible por cuatro excepto los años que son múltiplos de 100, a no ser que lo sean de 400 (por ejemplo el año 2000 fue bisiesto pero el 2100 no lo será)."
   ]
  },
  {
   "cell_type": "code",
   "execution_count": 88,
   "metadata": {},
   "outputs": [],
   "source": [
    "def bisiesto(x):\n",
    "    if x%4==0 and not x%100==0:\n",
    "        print(\" El año \"+str(x)+\" es bisiesto\")\n",
    "    elif x%100==0 and x%400==0:\n",
    "        print(\" El año \"+str(x)+\" es bisiesto\")\n",
    "    else:\n",
    "        print(\" El año \"+str(x)+\" no es bisiesto\")"
   ]
  },
  {
   "cell_type": "code",
   "execution_count": 120,
   "metadata": {},
   "outputs": [
    {
     "name": "stdout",
     "output_type": "stream",
     "text": [
      " El año 2016 es bisiesto\n"
     ]
    }
   ],
   "source": [
    "bisiesto (2016)"
   ]
  },
  {
   "cell_type": "markdown",
   "metadata": {},
   "source": [
    "Corrección del profesor"
   ]
  },
  {
   "cell_type": "code",
   "execution_count": null,
   "metadata": {},
   "outputs": [],
   "source": [
    "year = int(input(\"Introduce elAño: \"))\n",
    "\n",
    "if year % 4 == 0:\n",
    "  if year % 100:\n",
    "    if year % 400:\n",
    "      print(\"El año {} es bisiesto\".format(year))\n",
    "    else: \n",
    "      print(\"El año {} no es bisiesto\".format(year))\n",
    "  else: \n",
    "      print(\"El año {} es bisiesto\".format(year))\n",
    "else: \n",
    "  print(\"El año {} no es bisiesto\".format(year))"
   ]
  },
  {
   "cell_type": "markdown",
   "metadata": {},
   "source": [
    "7.- Escribe una expresión lea una letra y un número de teclado correspondiente a una casilla de un tablero de ajedrez y nos indique si esta casilla es negra o blanca."
   ]
  },
  {
   "cell_type": "code",
   "execution_count": 110,
   "metadata": {},
   "outputs": [],
   "source": [
    "class ajedrez(object):\n",
    "    def colorCasilla(self,x,y):\n",
    "        \n",
    "        if x=='a'or x=='c' or x=='e'or x=='g':\n",
    "            self.valorletras=1\n",
    "        else:\n",
    "            self.valorletras=2\n",
    "            \n",
    "        \n",
    "        if (self.valorletras+y)%2==0:\n",
    "            print(\"La casilla es negra\")\n",
    "        else:\n",
    "            print(\"La casilla es blanca\")\n",
    "        "
   ]
  },
  {
   "cell_type": "code",
   "execution_count": 115,
   "metadata": {},
   "outputs": [
    {
     "name": "stdout",
     "output_type": "stream",
     "text": [
      "La casilla es blanca\n"
     ]
    }
   ],
   "source": [
    "instancia=ajedrez()\n",
    "instancia.colorCasilla(\"g\",6)"
   ]
  },
  {
   "cell_type": "markdown",
   "metadata": {},
   "source": [
    "Corrección del profesor"
   ]
  },
  {
   "cell_type": "code",
   "execution_count": null,
   "metadata": {},
   "outputs": [],
   "source": [
    "entrada = input('Introduce la Casilla (ej: A1): ')\n",
    "letras = {'A':1,'B':2,'C':3,'D':4,'E':5,'F':6,'G':7,'H':8}\n",
    "letra = entrada[0]\n",
    "numero1 = int(entrada[1])\n",
    "numero2 = letras[letra]\n",
    "if (numero1+numero2)%2 == 0:\n",
    "    print('Negro')\n",
    "else:\n",
    "    print('Blanco')"
   ]
  },
  {
   "cell_type": "code",
   "execution_count": null,
   "metadata": {},
   "outputs": [],
   "source": []
  },
  {
   "cell_type": "code",
   "execution_count": null,
   "metadata": {},
   "outputs": [],
   "source": []
  },
  {
   "cell_type": "code",
   "execution_count": 123,
   "metadata": {},
   "outputs": [
    {
     "name": "stdout",
     "output_type": "stream",
     "text": [
      "Introduce un numero: 7\n",
      "El numero 7 NO esta en el rango\n"
     ]
    }
   ],
   "source": [
    "def buscarRango():\n",
    "  numero = int(input(\"Introduce un numero: \"))\n",
    "  if(numero >= -5 and numero <= 5):\n",
    "    print (\"El numero \" + str(numero) + \" esta en el rango -5 a 5\")\n",
    "  else:\n",
    "    print (\"El numero \" + str(numero) + \" NO esta en el rango\")\n",
    "  return\n",
    "\n",
    "buscarRango()"
   ]
  },
  {
   "cell_type": "code",
   "execution_count": null,
   "metadata": {},
   "outputs": [],
   "source": []
  },
  {
   "cell_type": "code",
   "execution_count": null,
   "metadata": {},
   "outputs": [],
   "source": []
  },
  {
   "cell_type": "code",
   "execution_count": null,
   "metadata": {},
   "outputs": [],
   "source": []
  },
  {
   "cell_type": "code",
   "execution_count": null,
   "metadata": {},
   "outputs": [],
   "source": []
  },
  {
   "cell_type": "code",
   "execution_count": null,
   "metadata": {},
   "outputs": [],
   "source": []
  },
  {
   "cell_type": "code",
   "execution_count": 101,
   "metadata": {},
   "outputs": [
    {
     "name": "stdout",
     "output_type": "stream",
     "text": [
      "Introduzca la letra: a\n",
      "1\n"
     ]
    }
   ],
   "source": [
    "letra=input(\"Introduzca la letra: \")\n",
    "if letra == \"a\":\n",
    "    valorLetra=1\n",
    "else:\n",
    "    valorLetra=2\n",
    "print(valorLetra)"
   ]
  },
  {
   "cell_type": "code",
   "execution_count": null,
   "metadata": {},
   "outputs": [],
   "source": []
  },
  {
   "cell_type": "code",
   "execution_count": null,
   "metadata": {},
   "outputs": [],
   "source": [
    "\n",
    "x='b' or x='d' or x='f'or x='h'\n",
    "print(\"Introduzca una coordenada correcta para las letras\")"
   ]
  },
  {
   "cell_type": "code",
   "execution_count": null,
   "metadata": {},
   "outputs": [],
   "source": []
  }
 ],
 "metadata": {
  "kernelspec": {
   "display_name": "Python 3",
   "language": "python",
   "name": "python3"
  },
  "language_info": {
   "codemirror_mode": {
    "name": "ipython",
    "version": 3
   },
   "file_extension": ".py",
   "mimetype": "text/x-python",
   "name": "python",
   "nbconvert_exporter": "python",
   "pygments_lexer": "ipython3",
   "version": "3.8.5"
  }
 },
 "nbformat": 4,
 "nbformat_minor": 4
}
