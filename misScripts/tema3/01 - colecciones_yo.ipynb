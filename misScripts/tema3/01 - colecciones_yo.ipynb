{
 "cells": [
  {
   "cell_type": "markdown",
   "metadata": {},
   "source": [
    "# LISTAS\n"
   ]
  },
  {
   "cell_type": "code",
   "execution_count": 2,
   "metadata": {},
   "outputs": [],
   "source": [
    "L=[0]*10"
   ]
  },
  {
   "cell_type": "code",
   "execution_count": 3,
   "metadata": {},
   "outputs": [
    {
     "data": {
      "text/plain": [
       "[0, 0, 0, 0, 0, 0, 0, 0, 0, 0]"
      ]
     },
     "execution_count": 3,
     "metadata": {},
     "output_type": "execute_result"
    }
   ],
   "source": [
    "L"
   ]
  },
  {
   "cell_type": "code",
   "execution_count": 4,
   "metadata": {},
   "outputs": [],
   "source": [
    "L[3]=3.1415"
   ]
  },
  {
   "cell_type": "code",
   "execution_count": 5,
   "metadata": {},
   "outputs": [
    {
     "data": {
      "text/plain": [
       "[0, 0, 0, 3.1415, 0, 0, 0, 0, 0, 0]"
      ]
     },
     "execution_count": 5,
     "metadata": {},
     "output_type": "execute_result"
    }
   ],
   "source": [
    "L"
   ]
  },
  {
   "cell_type": "code",
   "execution_count": 6,
   "metadata": {},
   "outputs": [],
   "source": [
    "L[0]=1"
   ]
  },
  {
   "cell_type": "code",
   "execution_count": 7,
   "metadata": {},
   "outputs": [
    {
     "data": {
      "text/plain": [
       "[1, 0, 0, 3.1415, 0, 0, 0, 0, 0, 0]"
      ]
     },
     "execution_count": 7,
     "metadata": {},
     "output_type": "execute_result"
    }
   ],
   "source": [
    "L"
   ]
  },
  {
   "cell_type": "code",
   "execution_count": 8,
   "metadata": {},
   "outputs": [],
   "source": [
    "?L.insert"
   ]
  },
  {
   "cell_type": "code",
   "execution_count": 9,
   "metadata": {},
   "outputs": [],
   "source": [
    "L.insert(1,2)"
   ]
  },
  {
   "cell_type": "code",
   "execution_count": 10,
   "metadata": {},
   "outputs": [
    {
     "data": {
      "text/plain": [
       "[1, 2, 0, 0, 3.1415, 0, 0, 0, 0, 0, 0]"
      ]
     },
     "execution_count": 10,
     "metadata": {},
     "output_type": "execute_result"
    }
   ],
   "source": [
    "L"
   ]
  },
  {
   "cell_type": "code",
   "execution_count": 11,
   "metadata": {},
   "outputs": [],
   "source": [
    "?L.clear"
   ]
  },
  {
   "cell_type": "code",
   "execution_count": 12,
   "metadata": {},
   "outputs": [
    {
     "data": {
      "text/plain": [
       "1"
      ]
     },
     "execution_count": 12,
     "metadata": {},
     "output_type": "execute_result"
    }
   ],
   "source": [
    "L.index(2)"
   ]
  },
  {
   "cell_type": "code",
   "execution_count": 13,
   "metadata": {},
   "outputs": [
    {
     "data": {
      "text/plain": [
       "8"
      ]
     },
     "execution_count": 13,
     "metadata": {},
     "output_type": "execute_result"
    }
   ],
   "source": [
    "L.count(0)"
   ]
  },
  {
   "cell_type": "code",
   "execution_count": 17,
   "metadata": {},
   "outputs": [],
   "source": [
    "?L.sort"
   ]
  },
  {
   "cell_type": "code",
   "execution_count": 18,
   "metadata": {},
   "outputs": [
    {
     "data": {
      "text/plain": [
       "True"
      ]
     },
     "execution_count": 18,
     "metadata": {},
     "output_type": "execute_result"
    }
   ],
   "source": [
    "2 in L"
   ]
  },
  {
   "cell_type": "code",
   "execution_count": null,
   "metadata": {},
   "outputs": [],
   "source": []
  },
  {
   "cell_type": "markdown",
   "metadata": {},
   "source": [
    "# BUCLES"
   ]
  },
  {
   "cell_type": "code",
   "execution_count": 19,
   "metadata": {},
   "outputs": [
    {
     "data": {
      "text/plain": [
       "[1, 2, 0, 0, 3.1415, 0, 0, 0, 0, 0, 0]"
      ]
     },
     "execution_count": 19,
     "metadata": {},
     "output_type": "execute_result"
    }
   ],
   "source": [
    "L"
   ]
  },
  {
   "cell_type": "code",
   "execution_count": 53,
   "metadata": {},
   "outputs": [
    {
     "name": "stdout",
     "output_type": "stream",
     "text": [
      "1\n",
      "2\n",
      "0\n",
      "0\n",
      "3.1415\n",
      "0\n",
      "0\n",
      "0\n",
      "0\n",
      "0\n",
      "0\n"
     ]
    }
   ],
   "source": [
    "for var in L:\n",
    "    print(var)"
   ]
  },
  {
   "cell_type": "code",
   "execution_count": 54,
   "metadata": {},
   "outputs": [
    {
     "name": "stdout",
     "output_type": "stream",
     "text": [
      "0\n",
      "1\n",
      "2\n",
      "3\n",
      "4\n",
      "5\n",
      "6\n",
      "7\n",
      "8\n",
      "9\n"
     ]
    }
   ],
   "source": [
    "count=0\n",
    "while count<10:\n",
    "    print(count)\n",
    "    count +=1"
   ]
  },
  {
   "cell_type": "code",
   "execution_count": null,
   "metadata": {},
   "outputs": [],
   "source": []
  },
  {
   "cell_type": "markdown",
   "metadata": {},
   "source": [
    "## LA CRIBA DE ERATOSTENES"
   ]
  },
  {
   "cell_type": "markdown",
   "metadata": {},
   "source": [
    "Las explicaciones de otros alumnos:"
   ]
  },
  {
   "cell_type": "code",
   "execution_count": 6,
   "metadata": {},
   "outputs": [
    {
     "name": "stdout",
     "output_type": "stream",
     "text": [
      "Introduzca el entero hasta el que calcular los numeros primos:30\n",
      "[2, 3, 5, 7, 11, 13, 17, 19, 23, 29]\n"
     ]
    }
   ],
   "source": [
    "n = int(input(\"Introduzca el entero hasta el que calcular los numeros primos:\"))\n",
    "\n",
    "N=[] #lista vacia\n",
    "for i in range(2,n+1):\n",
    "    N.append(i)\n",
    "\n",
    "for idx1,p in enumerate(N,2):\n",
    "    \n",
    "    for idx2,n in enumerate(N,2):\n",
    "        if idx2 != idx1 and n%p == 0:\n",
    "            N.remove(n)\n",
    "            \n",
    "#print(idx2,n)\n",
    "\n",
    "print(N)"
   ]
  },
  {
   "cell_type": "code",
   "execution_count": 1,
   "metadata": {},
   "outputs": [],
   "source": [
    "import math"
   ]
  },
  {
   "cell_type": "code",
   "execution_count": 2,
   "metadata": {},
   "outputs": [],
   "source": [
    "import numpy as np"
   ]
  },
  {
   "cell_type": "code",
   "execution_count": 9,
   "metadata": {},
   "outputs": [
    {
     "name": "stdout",
     "output_type": "stream",
     "text": [
      "Introduzca el numero: 30\n"
     ]
    },
    {
     "data": {
      "text/plain": [
       "[2, 3, 5, 7, 11, 13, 17, 19, 23, 29]"
      ]
     },
     "execution_count": 9,
     "metadata": {},
     "output_type": "execute_result"
    }
   ],
   "source": [
    "n = int(input(\"Introduzca el numero: \"))\n",
    "\n",
    "P = []\n",
    "NP = []\n",
    "\n",
    "for i in range(2,n+1):\n",
    "    if i not in NP:\n",
    "            P.append(i)\n",
    "            \n",
    "            for j in range(i*i,n+1,i):\n",
    "                NP.append(j)\n",
    "                \n",
    "P\n"
   ]
  },
  {
   "cell_type": "code",
   "execution_count": 19,
   "metadata": {},
   "outputs": [
    {
     "name": "stdout",
     "output_type": "stream",
     "text": [
      "Introduzca el entero hasta el que calcular los numeros primos:30\n"
     ]
    },
    {
     "data": {
      "text/plain": [
       "[2, 3, 5, 7, 11, 13, 17, 19, 23, 29]"
      ]
     },
     "execution_count": 19,
     "metadata": {},
     "output_type": "execute_result"
    }
   ],
   "source": [
    "def cribaEratostenes():\n",
    "    N=[]\n",
    "    n= int(input(\"Introduzca el entero hasta el que calcular los numeros primos:\"))\n",
    "\n",
    "    if n>=2:\n",
    "        N=list(range(2,n+1))\n",
    "    \n",
    "        i=0\n",
    "    \n",
    "        while math.pow(N[i],2)<=n:\n",
    "            for j in N:\n",
    "                if j != N[i] and j%N[i]==0:\n",
    "                    N.remove(j)\n",
    "            i+=1\n",
    "        return N\n",
    "    else:\n",
    "        print(\"El numero tiene que ser mayor que 2\")\n",
    "        return []\n",
    "\n",
    "cribaEratostenes()\n"
   ]
  },
  {
   "cell_type": "markdown",
   "metadata": {},
   "source": [
    "### MI SOLUCIÓN"
   ]
  },
  {
   "cell_type": "code",
   "execution_count": 28,
   "metadata": {
    "collapsed": true
   },
   "outputs": [
    {
     "name": "stdout",
     "output_type": "stream",
     "text": [
      "Introduzca el número: 1780\n"
     ]
    },
    {
     "data": {
      "text/plain": [
       "[2,\n",
       " 3,\n",
       " 5,\n",
       " 7,\n",
       " 11,\n",
       " 13,\n",
       " 17,\n",
       " 19,\n",
       " 23,\n",
       " 29,\n",
       " 31,\n",
       " 37,\n",
       " 41,\n",
       " 43,\n",
       " 47,\n",
       " 53,\n",
       " 59,\n",
       " 61,\n",
       " 67,\n",
       " 71,\n",
       " 73,\n",
       " 79,\n",
       " 83,\n",
       " 89,\n",
       " 97,\n",
       " 101,\n",
       " 103,\n",
       " 107,\n",
       " 109,\n",
       " 113,\n",
       " 127,\n",
       " 131,\n",
       " 137,\n",
       " 139,\n",
       " 149,\n",
       " 151,\n",
       " 157,\n",
       " 163,\n",
       " 167,\n",
       " 173,\n",
       " 179,\n",
       " 181,\n",
       " 191,\n",
       " 193,\n",
       " 197,\n",
       " 199,\n",
       " 211,\n",
       " 223,\n",
       " 227,\n",
       " 229,\n",
       " 233,\n",
       " 239,\n",
       " 241,\n",
       " 251,\n",
       " 257,\n",
       " 263,\n",
       " 269,\n",
       " 271,\n",
       " 277,\n",
       " 281,\n",
       " 283,\n",
       " 293,\n",
       " 307,\n",
       " 311,\n",
       " 313,\n",
       " 317,\n",
       " 331,\n",
       " 337,\n",
       " 347,\n",
       " 349,\n",
       " 353,\n",
       " 359,\n",
       " 367,\n",
       " 373,\n",
       " 379,\n",
       " 383,\n",
       " 389,\n",
       " 397,\n",
       " 401,\n",
       " 409,\n",
       " 419,\n",
       " 421,\n",
       " 431,\n",
       " 433,\n",
       " 439,\n",
       " 443,\n",
       " 449,\n",
       " 457,\n",
       " 461,\n",
       " 463,\n",
       " 467,\n",
       " 479,\n",
       " 487,\n",
       " 491,\n",
       " 499,\n",
       " 503,\n",
       " 509,\n",
       " 521,\n",
       " 523,\n",
       " 541,\n",
       " 547,\n",
       " 557,\n",
       " 563,\n",
       " 569,\n",
       " 571,\n",
       " 577,\n",
       " 587,\n",
       " 593,\n",
       " 599,\n",
       " 601,\n",
       " 607,\n",
       " 613,\n",
       " 617,\n",
       " 619,\n",
       " 631,\n",
       " 641,\n",
       " 643,\n",
       " 647,\n",
       " 653,\n",
       " 659,\n",
       " 661,\n",
       " 673,\n",
       " 677,\n",
       " 683,\n",
       " 691,\n",
       " 701,\n",
       " 709,\n",
       " 719,\n",
       " 727,\n",
       " 733,\n",
       " 739,\n",
       " 743,\n",
       " 751,\n",
       " 757,\n",
       " 761,\n",
       " 769,\n",
       " 773,\n",
       " 787,\n",
       " 797,\n",
       " 809,\n",
       " 811,\n",
       " 821,\n",
       " 823,\n",
       " 827,\n",
       " 829,\n",
       " 839,\n",
       " 853,\n",
       " 857,\n",
       " 859,\n",
       " 863,\n",
       " 877,\n",
       " 881,\n",
       " 883,\n",
       " 887,\n",
       " 907,\n",
       " 911,\n",
       " 919,\n",
       " 929,\n",
       " 937,\n",
       " 941,\n",
       " 947,\n",
       " 953,\n",
       " 967,\n",
       " 971,\n",
       " 977,\n",
       " 983,\n",
       " 991,\n",
       " 997,\n",
       " 1009,\n",
       " 1013,\n",
       " 1019,\n",
       " 1021,\n",
       " 1031,\n",
       " 1033,\n",
       " 1039,\n",
       " 1049,\n",
       " 1051,\n",
       " 1061,\n",
       " 1063,\n",
       " 1069,\n",
       " 1087,\n",
       " 1091,\n",
       " 1093,\n",
       " 1097,\n",
       " 1103,\n",
       " 1109,\n",
       " 1117,\n",
       " 1123,\n",
       " 1129,\n",
       " 1151,\n",
       " 1153,\n",
       " 1163,\n",
       " 1171,\n",
       " 1181,\n",
       " 1187,\n",
       " 1193,\n",
       " 1201,\n",
       " 1213,\n",
       " 1217,\n",
       " 1223,\n",
       " 1229,\n",
       " 1231,\n",
       " 1237,\n",
       " 1249,\n",
       " 1259,\n",
       " 1277,\n",
       " 1279,\n",
       " 1283,\n",
       " 1289,\n",
       " 1291,\n",
       " 1297,\n",
       " 1301,\n",
       " 1303,\n",
       " 1307,\n",
       " 1319,\n",
       " 1321,\n",
       " 1327,\n",
       " 1361,\n",
       " 1367,\n",
       " 1373,\n",
       " 1381,\n",
       " 1399,\n",
       " 1409,\n",
       " 1423,\n",
       " 1427,\n",
       " 1429,\n",
       " 1433,\n",
       " 1439,\n",
       " 1447,\n",
       " 1451,\n",
       " 1453,\n",
       " 1459,\n",
       " 1471,\n",
       " 1481,\n",
       " 1483,\n",
       " 1487,\n",
       " 1489,\n",
       " 1493,\n",
       " 1499,\n",
       " 1511,\n",
       " 1523,\n",
       " 1531,\n",
       " 1543,\n",
       " 1549,\n",
       " 1553,\n",
       " 1559,\n",
       " 1567,\n",
       " 1571,\n",
       " 1579,\n",
       " 1583,\n",
       " 1597,\n",
       " 1601,\n",
       " 1607,\n",
       " 1609,\n",
       " 1613,\n",
       " 1619,\n",
       " 1621,\n",
       " 1627,\n",
       " 1637,\n",
       " 1657,\n",
       " 1663,\n",
       " 1667,\n",
       " 1669,\n",
       " 1693,\n",
       " 1697,\n",
       " 1699,\n",
       " 1709,\n",
       " 1721,\n",
       " 1723,\n",
       " 1733,\n",
       " 1741,\n",
       " 1747,\n",
       " 1753,\n",
       " 1759,\n",
       " 1777]"
      ]
     },
     "execution_count": 28,
     "metadata": {},
     "output_type": "execute_result"
    }
   ],
   "source": [
    "\n",
    "def cribEratost ():\n",
    "    n=int(input(\"Introduzca el número: \"))\n",
    "\n",
    "    N=list(range(2,n+1))\n",
    "\n",
    "    k=0\n",
    "\n",
    "    while N[k]**2 <=n:\n",
    "        for i in N:\n",
    "            for j in N:\n",
    "                if j%i ==0 and j!=i:\n",
    "                    N.remove(j)\n",
    "        k +=1\n",
    "    return N\n",
    "\n",
    "cribEratost ()"
   ]
  },
  {
   "cell_type": "code",
   "execution_count": null,
   "metadata": {},
   "outputs": [],
   "source": []
  },
  {
   "cell_type": "markdown",
   "metadata": {},
   "source": [
    "# TUPLA\n"
   ]
  },
  {
   "cell_type": "code",
   "execution_count": 29,
   "metadata": {},
   "outputs": [],
   "source": [
    "p1=(1,)"
   ]
  },
  {
   "cell_type": "code",
   "execution_count": 30,
   "metadata": {},
   "outputs": [
    {
     "data": {
      "text/plain": [
       "(1,)"
      ]
     },
     "execution_count": 30,
     "metadata": {},
     "output_type": "execute_result"
    }
   ],
   "source": [
    "p1"
   ]
  },
  {
   "cell_type": "markdown",
   "metadata": {},
   "source": [
    "#### EJERCICIO GUIADO "
   ]
  },
  {
   "cell_type": "code",
   "execution_count": 5,
   "metadata": {},
   "outputs": [
    {
     "name": "stdout",
     "output_type": "stream",
     "text": [
      "Introduce una serie de numeros separados por comas: 4,5,6,7,8,9\n",
      "['4', '5', '6', '7', '8', '9']\n",
      "['4', '5', '6', '7', '8', '9']\n"
     ]
    },
    {
     "ename": "AttributeError",
     "evalue": "'str' object has no attribute 'astype'",
     "output_type": "error",
     "traceback": [
      "\u001b[0;31m---------------------------------------------------------------------------\u001b[0m",
      "\u001b[0;31mAttributeError\u001b[0m                            Traceback (most recent call last)",
      "\u001b[0;32m<ipython-input-5-4d51edaf54d4>\u001b[0m in \u001b[0;36m<module>\u001b[0;34m\u001b[0m\n\u001b[1;32m      6\u001b[0m     \u001b[0mL2\u001b[0m\u001b[0;34m.\u001b[0m\u001b[0mappend\u001b[0m\u001b[0;34m(\u001b[0m\u001b[0mint\u001b[0m\u001b[0;34m(\u001b[0m\u001b[0mn\u001b[0m\u001b[0;34m)\u001b[0m\u001b[0;34m)\u001b[0m\u001b[0;34m\u001b[0m\u001b[0;34m\u001b[0m\u001b[0m\n\u001b[1;32m      7\u001b[0m \u001b[0mprint\u001b[0m\u001b[0;34m(\u001b[0m\u001b[0mL\u001b[0m\u001b[0;34m)\u001b[0m\u001b[0;34m\u001b[0m\u001b[0;34m\u001b[0m\u001b[0m\n\u001b[0;32m----> 8\u001b[0;31m \u001b[0mL3\u001b[0m\u001b[0;34m=\u001b[0m\u001b[0ml\u001b[0m\u001b[0;34m.\u001b[0m\u001b[0mastype\u001b[0m\u001b[0;34m(\u001b[0m\u001b[0mint\u001b[0m\u001b[0;34m)\u001b[0m\u001b[0;34m\u001b[0m\u001b[0;34m\u001b[0m\u001b[0m\n\u001b[0m\u001b[1;32m      9\u001b[0m \u001b[0;31m#print(L3)\u001b[0m\u001b[0;34m\u001b[0m\u001b[0;34m\u001b[0m\u001b[0;34m\u001b[0m\u001b[0m\n\u001b[1;32m     10\u001b[0m \u001b[0mP\u001b[0m\u001b[0;34m=\u001b[0m\u001b[0mtuple\u001b[0m\u001b[0;34m(\u001b[0m\u001b[0mL2\u001b[0m\u001b[0;34m)\u001b[0m\u001b[0;34m\u001b[0m\u001b[0;34m\u001b[0m\u001b[0m\n",
      "\u001b[0;31mAttributeError\u001b[0m: 'str' object has no attribute 'astype'"
     ]
    }
   ],
   "source": [
    "l=input(\"Introduce una serie de numeros separados por comas: \")\n",
    "L=l.split(\",\")\n",
    "print(L)\n",
    "L2=[]\n",
    "for n in L:\n",
    "    L2.append(int(n))\n",
    "print(L)\n",
    "#L3=l.astype(int) -- esta función aparece en un cheatsheet pero no va\n",
    "\n",
    "#print(L3)\n",
    "P=tuple(L2)\n",
    "print(P)"
   ]
  },
  {
   "cell_type": "code",
   "execution_count": 51,
   "metadata": {},
   "outputs": [
    {
     "name": "stdout",
     "output_type": "stream",
     "text": [
      "Introduce una serie de numeros separados por comas: 4,5,6,7\n",
      "['4', '5', '6', '7']\n",
      "[4, 5, 6, 7]\n",
      "(4, 5, 6, 7)\n",
      "5.5\n"
     ]
    }
   ],
   "source": [
    "l=input(\"Introduce una serie de numeros separados por comas: \")\n",
    "L=l.split(\",\")\n",
    "print(L)\n",
    "\n",
    "for idx,n in enumerate(L):\n",
    "    L[idx]=int(n)\n",
    "print(L)\n",
    "\n",
    "P=tuple(L)\n",
    "print(P)\n",
    "\n",
    "def media(x):\n",
    "    y=sum(x)/len(x)\n",
    "    return y\n",
    "print(media(P))"
   ]
  },
  {
   "cell_type": "code",
   "execution_count": null,
   "metadata": {},
   "outputs": [],
   "source": []
  },
  {
   "cell_type": "markdown",
   "metadata": {},
   "source": [
    "### CADENAS FORMATEADAS"
   ]
  },
  {
   "cell_type": "code",
   "execution_count": 55,
   "metadata": {},
   "outputs": [
    {
     "name": "stdout",
     "output_type": "stream",
     "text": [
      "¡Hola, Alberto Daniel!\n"
     ]
    }
   ],
   "source": [
    "nombre=\"Alberto Daniel\"\n",
    "print(\"¡Hola, %s!\"%nombre)"
   ]
  },
  {
   "cell_type": "code",
   "execution_count": 60,
   "metadata": {},
   "outputs": [
    {
     "name": "stdout",
     "output_type": "stream",
     "text": [
      "Esto es un número entero: 22\n"
     ]
    }
   ],
   "source": [
    "print(\"Esto es un número entero: %d\"%sum(P))"
   ]
  },
  {
   "cell_type": "code",
   "execution_count": 59,
   "metadata": {},
   "outputs": [
    {
     "name": "stdout",
     "output_type": "stream",
     "text": [
      "Esto es un número con coma flotante: 5.5\n"
     ]
    }
   ],
   "source": [
    "print(\"Esto es un número con coma flotante: %.1f\"%media(L))"
   ]
  },
  {
   "cell_type": "code",
   "execution_count": null,
   "metadata": {},
   "outputs": [],
   "source": []
  },
  {
   "cell_type": "markdown",
   "metadata": {},
   "source": [
    "# DICCIONARIOS"
   ]
  },
  {
   "cell_type": "code",
   "execution_count": null,
   "metadata": {},
   "outputs": [],
   "source": []
  },
  {
   "cell_type": "code",
   "execution_count": null,
   "metadata": {},
   "outputs": [],
   "source": []
  },
  {
   "cell_type": "markdown",
   "metadata": {},
   "source": [
    "# PROGRAMANDO CON PYTHON\n"
   ]
  },
  {
   "cell_type": "markdown",
   "metadata": {},
   "source": [
    "#### 1 Crea una función que reciba los tres coeficientes a, b y c para resolver una ecuación de segundo grado. Muestra la solución por pantalla y ayúdate de la librería Math para acceder a la función raíz cuadrada."
   ]
  },
  {
   "cell_type": "code",
   "execution_count": 36,
   "metadata": {},
   "outputs": [],
   "source": [
    "def segundog():\n",
    "    t=input(\"Introduzca los coeficientes a,b y c separados por comas: \")\n",
    "    T=t.split(\",\")\n",
    "    \n",
    "    for idx,t in enumerate(T):\n",
    "        T[idx]=float(t)\n",
    "    \n",
    "    a,b,c=T\n",
    "    if (b**2-4*a*c) >= 0:\n",
    "        x=(-1*b+math.sqrt(b**2-4*a*c))/(2*a)\n",
    "        y=(-1*b-math.sqrt(b**2-4*a*c))/(2*a)\n",
    "        print(\"Las soluciones de la ecuaión de segundo grado son: %.3f y %.3f\"%(x,y))\n",
    "        \n",
    "    else:\n",
    "        print(\"La ecuación no tiene soluciones reales.\")"
   ]
  },
  {
   "cell_type": "code",
   "execution_count": 37,
   "metadata": {},
   "outputs": [
    {
     "name": "stdout",
     "output_type": "stream",
     "text": [
      "Introduzca los coeficientes a,b y c separados por comas: 0.5,3,-20\n",
      "Las soluciones de la ecuaión de segundo grado son: 4.000 y -10.000\n"
     ]
    }
   ],
   "source": [
    "segundog()"
   ]
  },
  {
   "cell_type": "code",
   "execution_count": null,
   "metadata": {},
   "outputs": [],
   "source": []
  },
  {
   "cell_type": "markdown",
   "metadata": {},
   "source": [
    "#### 2 Crea una función que lea una frase de teclado y nos diga si es o no un palíndromo (frase que se lee igual de izquierda a derecha o al revés como por ejemplo La ruta nos aportó otro paso natural.)"
   ]
  },
  {
   "cell_type": "code",
   "execution_count": 89,
   "metadata": {},
   "outputs": [],
   "source": [
    "def palindromo():\n",
    "    frase=input(\"Introduzca el posible palindromo: \")\n",
    "    f=frase.replace(\" \",\"\")\n",
    "    F=list(f)\n",
    "\n",
    "    G=F.copy()\n",
    "    F.reverse()\n",
    "    \n",
    "    if F==G:\n",
    "        print(\"Ha introducido un palidromo!!\")\n",
    "    else:\n",
    "        print(\" :( Vuelva a intentarlo de nuevo\")\n",
    "    "
   ]
  },
  {
   "cell_type": "code",
   "execution_count": 90,
   "metadata": {},
   "outputs": [
    {
     "name": "stdout",
     "output_type": "stream",
     "text": [
      "Introduzca el posible palindromo: la ruta es\n",
      "la ruta es\n",
      " :( Vuelva a intentarlo de nuevo\n"
     ]
    }
   ],
   "source": [
    "palindromo()"
   ]
  },
  {
   "cell_type": "code",
   "execution_count": null,
   "metadata": {},
   "outputs": [],
   "source": []
  },
  {
   "cell_type": "markdown",
   "metadata": {},
   "source": [
    "#### 3 Crea un diccionario que tenga por claves los números del 1 al 10 y como valores sus raíces cuadradas"
   ]
  },
  {
   "cell_type": "code",
   "execution_count": 97,
   "metadata": {},
   "outputs": [
    {
     "data": {
      "text/plain": [
       "{1: 1.0,\n",
       " 2: 1.4142135623730951,\n",
       " 3: 1.7320508075688772,\n",
       " 4: 2.0,\n",
       " 5: 2.23606797749979,\n",
       " 6: 2.449489742783178,\n",
       " 7: 2.6457513110645907,\n",
       " 8: 2.8284271247461903,\n",
       " 9: 3.0,\n",
       " 10: 3.1622776601683795}"
      ]
     },
     "execution_count": 97,
     "metadata": {},
     "output_type": "execute_result"
    }
   ],
   "source": [
    "raices = {}\n",
    "for i in range(1,11):\n",
    "        raices[i]=math.sqrt(i)  \n",
    "raices"
   ]
  },
  {
   "cell_type": "markdown",
   "metadata": {},
   "source": [
    "#### 4 Crea un diccionario que tenga como claves las letras del alfabeto castellano y como valores los símbolos del código morse (los tienes todos en la Wikipedia). A continuación crea un programa que lea una frase del teclado y te la convierta a Morse utilizando el diccionario anterior."
   ]
  },
  {
   "cell_type": "code",
   "execution_count": 116,
   "metadata": {},
   "outputs": [],
   "source": [
    "morse = {\n",
    "    \"a\": '._',\n",
    "    \"b\": '_...',\n",
    "    \"c\": '_._.',\n",
    "    \"ch\": '_ _ _ _',\n",
    "    \"d\": '_..',\n",
    "    \"e\": '.',\n",
    "    \"f\": '.._.',\n",
    "    \"g\": '_ _ .',\n",
    "    \"h\": '....',\n",
    "    \"i\": '..',\n",
    "    \"j\": '._ _ _',\n",
    "    \"k\": '_._',\n",
    "    \"l\": '._..',\n",
    "    \"m\": '_ _',\n",
    "    \"n\": '_.',\n",
    "    \"ñ\": '_ _._ _',\n",
    "    \"o\": '_ _ _',\n",
    "    \"p\": '. _ _.',\n",
    "    \"q\": '_ _ . _',\n",
    "    \"r\": '._.',\n",
    "    \"s\": '...',\n",
    "    \"t\": '_',\n",
    "    \"u\": '.._',\n",
    "    \"v\": '..._',\n",
    "    \"W\": '._ _',\n",
    "    \"x\": '_.._',\n",
    "    \"y\": '_._ _',\n",
    "    \"z\": '_ _ ..'    \n",
    "    \n",
    "}\n",
    "def traduceamorse():\n",
    "    frase=input(\"Intruduzca el mensaje: \")\n",
    "    f=frase.replace(\" \",\"\")\n",
    "    F=list(f)\n",
    "    \n",
    "    for idx,c in enumerate(F):\n",
    "        F[idx]=morse[c]\n",
    "    print(F)\n",
    "    \n",
    "    StrF=\"\".join(F)\n",
    "    print(StrF)\n",
    "    "
   ]
  },
  {
   "cell_type": "code",
   "execution_count": 117,
   "metadata": {},
   "outputs": [
    {
     "name": "stdout",
     "output_type": "stream",
     "text": [
      "Intruduzca el mensaje: hola amigo\n",
      "['....', '_ _ _', '._..', '._', '._', '_ _', '..', '_ _ .', '_ _ _']\n",
      "...._ _ _._..._.__ _.._ _ ._ _ _\n"
     ]
    }
   ],
   "source": [
    "traduceamorse()"
   ]
  },
  {
   "cell_type": "code",
   "execution_count": null,
   "metadata": {},
   "outputs": [],
   "source": []
  },
  {
   "cell_type": "markdown",
   "metadata": {},
   "source": [
    "#### 5 Crea una función que dados dos diccionarios nos diga que claves están presentes en ambos. "
   ]
  },
  {
   "cell_type": "code",
   "execution_count": 157,
   "metadata": {},
   "outputs": [],
   "source": [
    "def clavesrepe():\n",
    "    claves1=input(\"Introduzca las claves del diccionario 1 separadas por comas:\")\n",
    "    valores1=input(\"Introduzca los valores del diccionario 1 separados por comas: \")\n",
    "    claves2=input(\"Introduzca las claves del diccionario 2 separadas por comas:\")\n",
    "    valores2=input(\"Introduzca los valores del diccionario 2 separados por comas: \")\n",
    "    \n",
    "    c1=claves1.split(\",\")\n",
    "    v1=valores1.split(\",\")\n",
    "    c2=claves2.split(\",\")\n",
    "    v2=valores2.split(\",\")\n",
    "    \n",
    "    dic1={}\n",
    "    dic2={}\n",
    "    \n",
    "    for x in range(len(c1)):\n",
    "        dic1[c1[x]]=v1[x]\n",
    "    \n",
    "    for x in range(len(c2)):\n",
    "        dic2[c2[x]]=v2[x]\n",
    "        \n",
    "    print(dic1)\n",
    "    print(dic2)\n",
    "    \n",
    "    \n",
    "    clavesrepetidas=[]\n",
    "    for clave in dic1.keys():\n",
    "        if clave in dic2:\n",
    "            clavesrepetidas.append(clave)\n",
    "    \n",
    "    if len(clavesrepetidas)==0:\n",
    "        print(\"No hay claves repetidas\")\n",
    "    else:\n",
    "        print(\"Las claves repetidas son:\")\n",
    "        print(clavesrepetidas)\n",
    "                   \n",
    "        \n"
   ]
  },
  {
   "cell_type": "code",
   "execution_count": 159,
   "metadata": {},
   "outputs": [
    {
     "name": "stdout",
     "output_type": "stream",
     "text": [
      "Introduzca las claves del diccionario 1 separadas por comas:a,b\n",
      "Introduzca los valores del diccionario 1 separados por comas: 3,4\n",
      "Introduzca las claves del diccionario 2 separadas por comas:c,d\n",
      "Introduzca los valores del diccionario 2 separados por comas: 4,5\n",
      "{'a': '3', 'b': '4'}\n",
      "{'c': '4', 'd': '5'}\n",
      "No hay claves repetidas\n"
     ]
    }
   ],
   "source": [
    "clavesrepe()"
   ]
  },
  {
   "cell_type": "code",
   "execution_count": null,
   "metadata": {},
   "outputs": [],
   "source": []
  },
  {
   "cell_type": "markdown",
   "metadata": {},
   "source": [
    "#### 6 Crea una función que dado un número N nos diga si es primo o no (tiene que ir dividiendo por todos los números x comprendidos entre 2 y el propio número N menos uno y ver si el cociente de N/x tiene resto entero o no). \n"
   ]
  },
  {
   "cell_type": "code",
   "execution_count": 32,
   "metadata": {},
   "outputs": [],
   "source": [
    "def primos():\n",
    "    n=int(input(\"Introduzca el entero: \"))\n",
    "    \n",
    "    count=0\n",
    "    for x in range(2,n):\n",
    "        if math.modf(n/x)[0]==0:\n",
    "            count +=1\n",
    "    if count != 0:\n",
    "        print(\"%d NO es primo\"%n)\n",
    "    else:\n",
    "        print(\"%d es primo\"%n)\n"
   ]
  },
  {
   "cell_type": "code",
   "execution_count": 34,
   "metadata": {},
   "outputs": [
    {
     "name": "stdout",
     "output_type": "stream",
     "text": [
      "Introduzca el entero: 7\n",
      "7 es primo\n"
     ]
    }
   ],
   "source": [
    "primos()"
   ]
  },
  {
   "cell_type": "code",
   "execution_count": null,
   "metadata": {},
   "outputs": [],
   "source": []
  },
  {
   "cell_type": "code",
   "execution_count": 39,
   "metadata": {},
   "outputs": [],
   "source": [
    "def primos2():\n",
    "    n=int(input(\"Introduzca el entero: \"))\n",
    "    \n",
    "    count=0\n",
    "    for x in range(2,n):\n",
    "        if float.is_integer(n/x):\n",
    "            count +=1\n",
    "    if count != 0:\n",
    "        print(\"%d NO es primo\"%n)\n",
    "    else:\n",
    "        print(\"%d es primo\"%n)"
   ]
  },
  {
   "cell_type": "code",
   "execution_count": 41,
   "metadata": {},
   "outputs": [
    {
     "name": "stdout",
     "output_type": "stream",
     "text": [
      "Introduzca el entero: 10\n",
      "10 NO es primo\n"
     ]
    }
   ],
   "source": [
    "primos2()"
   ]
  },
  {
   "cell_type": "code",
   "execution_count": null,
   "metadata": {},
   "outputs": [],
   "source": []
  },
  {
   "cell_type": "code",
   "execution_count": 42,
   "metadata": {},
   "outputs": [],
   "source": [
    "def primos3():\n",
    "    n=int(input(\"Introduzca el entero: \"))\n",
    "    \n",
    "    count=0\n",
    "    for x in range(2,n):\n",
    "        if n%x==0:\n",
    "            count +=1\n",
    "    if count != 0:\n",
    "        print(\"%d NO es primo\"%n)\n",
    "    else:\n",
    "        print(\"%d es primo\"%n)"
   ]
  },
  {
   "cell_type": "code",
   "execution_count": 44,
   "metadata": {},
   "outputs": [
    {
     "name": "stdout",
     "output_type": "stream",
     "text": [
      "Introduzca el entero: 10\n",
      "10 NO es primo\n"
     ]
    }
   ],
   "source": [
    "primos3()"
   ]
  },
  {
   "cell_type": "code",
   "execution_count": null,
   "metadata": {},
   "outputs": [],
   "source": []
  },
  {
   "cell_type": "markdown",
   "metadata": {},
   "source": [
    "#### 7 Investiga la documentación de la clase string y crea un método que lea una frase del teclado y escriba la primera letra de cada palabra en Mayúscula."
   ]
  },
  {
   "cell_type": "code",
   "execution_count": 50,
   "metadata": {},
   "outputs": [],
   "source": [
    "def primayuscula():\n",
    "    frase=(input(\"Introduzca la frase: \"))\n",
    "    f=frase.split(\" \")\n",
    "    \n",
    "    for idx,p in enumerate(f):\n",
    "        f[idx]=str.capitalize(p)\n",
    "    \n",
    "    print(\" \".join(f))\n",
    "    "
   ]
  },
  {
   "cell_type": "code",
   "execution_count": 51,
   "metadata": {},
   "outputs": [
    {
     "name": "stdout",
     "output_type": "stream",
     "text": [
      "Introduzca la frase: hola amigo rafa\n",
      "Hola Amigo Rafa\n"
     ]
    }
   ],
   "source": [
    "primayuscula()"
   ]
  },
  {
   "cell_type": "markdown",
   "metadata": {},
   "source": [
    "Métodos de las cadenas de caracteres:\n",
    "https://docs.python.org/es/3/library/stdtypes.html#textseq\n",
    "\n",
    "Clase string:\n",
    "https://www.youtube.com/watch?v=kdh2nqBZ2NE\n",
    "\n",
    "str.join:\n",
    "https://www.delftstack.com/es/howto/python/how-to-convert-a-list-to-string/"
   ]
  },
  {
   "cell_type": "code",
   "execution_count": 37,
   "metadata": {},
   "outputs": [
    {
     "ename": "NameError",
     "evalue": "name 'frase' is not defined",
     "output_type": "error",
     "traceback": [
      "\u001b[0;31m---------------------------------------------------------------------------\u001b[0m",
      "\u001b[0;31mNameError\u001b[0m                                 Traceback (most recent call last)",
      "\u001b[0;32m<ipython-input-37-7e766cff1430>\u001b[0m in \u001b[0;36m<module>\u001b[0;34m\u001b[0m\n\u001b[0;32m----> 1\u001b[0;31m \u001b[0mprint\u001b[0m\u001b[0;34m(\u001b[0m\u001b[0mfrase\u001b[0m\u001b[0;34m.\u001b[0m\u001b[0mtitle\u001b[0m\u001b[0;34m(\u001b[0m\u001b[0;34m)\u001b[0m\u001b[0;34m)\u001b[0m\u001b[0;34m\u001b[0m\u001b[0;34m\u001b[0m\u001b[0m\n\u001b[0m",
      "\u001b[0;31mNameError\u001b[0m: name 'frase' is not defined"
     ]
    }
   ],
   "source": [
    "print(frase.title())"
   ]
  },
  {
   "cell_type": "code",
   "execution_count": null,
   "metadata": {},
   "outputs": [],
   "source": []
  },
  {
   "cell_type": "markdown",
   "metadata": {},
   "source": [
    "#### 8 Crea una función que calcule el máximo común divisor de dos números introducidos por el usuario por teclado"
   ]
  },
  {
   "cell_type": "code",
   "execution_count": 55,
   "metadata": {},
   "outputs": [],
   "source": [
    "def MCD(a,b):\n",
    "    mcd=math.gcd(a,b)\n",
    "    print(\"El máximo común divisor es: %.3f\"%mcd)"
   ]
  },
  {
   "cell_type": "code",
   "execution_count": 62,
   "metadata": {},
   "outputs": [
    {
     "name": "stdout",
     "output_type": "stream",
     "text": [
      "El máximo común divisor es: 6.000\n"
     ]
    }
   ],
   "source": [
    "MCD(6,24)"
   ]
  },
  {
   "cell_type": "code",
   "execution_count": null,
   "metadata": {},
   "outputs": [],
   "source": []
  },
  {
   "cell_type": "markdown",
   "metadata": {},
   "source": [
    "#### 9 Investiga el Cifrado del César y crea una función que lo reproduzca en Python. Cada letra del mensaje original se desplaza tres posiciones en el alfabeto estándar. La A se convierte en la D, la B se convierte en la E, la C se convierte en la F... y cuando se acaba el alfabeto se le vuelve a dar la vuelta: la X se convierte en la A, la Y en la B y la X en la C. Los números no sufren ninguna modificación. \n"
   ]
  },
  {
   "cell_type": "code",
   "execution_count": null,
   "metadata": {},
   "outputs": [],
   "source": [
    "import string"
   ]
  },
  {
   "cell_type": "code",
   "execution_count": 15,
   "metadata": {},
   "outputs": [],
   "source": [
    "def cesar():\n",
    "#    import string\n",
    "    codigo={}\n",
    "    claves=list(string.ascii_uppercase)\n",
    "    valores=list(range(0,26))\n",
    "    \n",
    "    d=int(input(\"Introduzca el desplazamiento del código (3): \"))\n",
    "    for i in range(0,(len(valores)-d)):\n",
    "        valores[i]=claves[i+d]\n",
    "    for idx,i in enumerate(range(len(valores)-d,len(valores))):\n",
    "        valores[i]=claves[idx]\n",
    "    \n",
    "    for j in range(len(claves)):\n",
    "        codigo[claves[j]]=valores[j]\n",
    "    codigo[' ']=' '\n",
    "    for n in range(0,10):\n",
    "        codigo[str(n)]=str(n)\n",
    "        \n",
    "#    print(claves)        \n",
    "#    print(valores)\n",
    "#    print(codigo)\n",
    "    \n",
    "    men=input(\"Introduzca el mensaje a cifrar: \")\n",
    "    MEN=men.upper()\n",
    "    M=list(MEN)\n",
    "    \n",
    "    mc=[]\n",
    "    for l in M:\n",
    "        mc.append(codigo[l])\n",
    "    \n",
    "#    print(MEN)\n",
    "#    print(M)\n",
    "    print(\"El mensaje cifrado es: \"+str.join(\"\",mc))"
   ]
  },
  {
   "cell_type": "code",
   "execution_count": 16,
   "metadata": {},
   "outputs": [
    {
     "name": "stdout",
     "output_type": "stream",
     "text": [
      "Introduzca el desplazamiento del código (3): 3\n",
      "Introduzca el mensaje a cifrar: hola amigo\n",
      "El mensaje cifrado es: KROD DPLJR\n"
     ]
    }
   ],
   "source": [
    "cesar()"
   ]
  },
  {
   "cell_type": "code",
   "execution_count": null,
   "metadata": {},
   "outputs": [],
   "source": []
  },
  {
   "cell_type": "markdown",
   "metadata": {},
   "source": [
    "#### 10 Dado una lista de nombres de persona, escribe un algoritmo que los ordene de tres formas diferentes:\n",
    "\n",
    "A. De forma alfabética\n",
    "\n",
    "B. De forma alfabética invertida\n",
    "\n",
    "C. De nombre más corto al más largo"
   ]
  },
  {
   "cell_type": "code",
   "execution_count": 33,
   "metadata": {},
   "outputs": [],
   "source": [
    "def orden():\n",
    "    names=input(\"Introduzca los nombres separados por comas: \")\n",
    "    na=names.replace(\" \",\"\")\n",
    "    nombres=na.split(\",\")\n",
    "    \n",
    "    nombres.sort()\n",
    "    print(nombres)\n",
    "    nombres.sort(reverse=True)\n",
    "    print(nombres)\n",
    "    nombres.sort(key=len)\n",
    "    print(nombres)\n",
    "    \n",
    "    "
   ]
  },
  {
   "cell_type": "code",
   "execution_count": 34,
   "metadata": {},
   "outputs": [
    {
     "name": "stdout",
     "output_type": "stream",
     "text": [
      "Introduzca los nombres separados por comas: albertito, sebas, juanita\n",
      "['albertito', 'juanita', 'sebas']\n",
      "['sebas', 'juanita', 'albertito']\n",
      "['sebas', 'juanita', 'albertito']\n"
     ]
    }
   ],
   "source": [
    "orden()"
   ]
  },
  {
   "cell_type": "code",
   "execution_count": null,
   "metadata": {},
   "outputs": [],
   "source": []
  },
  {
   "cell_type": "code",
   "execution_count": null,
   "metadata": {},
   "outputs": [],
   "source": []
  },
  {
   "cell_type": "code",
   "execution_count": 3,
   "metadata": {},
   "outputs": [],
   "source": []
  },
  {
   "cell_type": "code",
   "execution_count": 64,
   "metadata": {},
   "outputs": [
    {
     "data": {
      "text/plain": [
       "'abcdefghijklmnopqrstuvwxyz'"
      ]
     },
     "execution_count": 64,
     "metadata": {},
     "output_type": "execute_result"
    }
   ],
   "source": [
    "string.ascii_lowercase"
   ]
  },
  {
   "cell_type": "code",
   "execution_count": 36,
   "metadata": {},
   "outputs": [],
   "source": [
    "?list.sort"
   ]
  },
  {
   "cell_type": "code",
   "execution_count": null,
   "metadata": {},
   "outputs": [],
   "source": []
  },
  {
   "cell_type": "code",
   "execution_count": null,
   "metadata": {},
   "outputs": [],
   "source": []
  },
  {
   "cell_type": "code",
   "execution_count": null,
   "metadata": {},
   "outputs": [],
   "source": []
  },
  {
   "cell_type": "code",
   "execution_count": null,
   "metadata": {},
   "outputs": [],
   "source": []
  }
 ],
 "metadata": {
  "kernelspec": {
   "display_name": "Python 3",
   "language": "python",
   "name": "python3"
  },
  "language_info": {
   "codemirror_mode": {
    "name": "ipython",
    "version": 3
   },
   "file_extension": ".py",
   "mimetype": "text/x-python",
   "name": "python",
   "nbconvert_exporter": "python",
   "pygments_lexer": "ipython3",
   "version": "3.8.5"
  }
 },
 "nbformat": 4,
 "nbformat_minor": 4
}
